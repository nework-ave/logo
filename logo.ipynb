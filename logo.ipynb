{
 "cells": [
  {
   "cell_type": "code",
   "execution_count": 46,
   "metadata": {},
   "outputs": [
    {
     "data": {
      "image/svg+xml": [
       "<svg width=\"600\" height=\"600\"><image href=\"./recycle.png\" width=\"600\" height=\"600\" opacity=\"0.8\"/><text font-size=\"144\" font-weight=\"bold\" fill=\"#ff8c00\" alignment-baseline=\"middle\" text-anchor=\"middle\" x=\"300.0\" y=\"120.0\">NEW</text></svg>"
      ],
      "text/plain": [
       "<IPython.core.display.SVG object>"
      ]
     },
     "execution_count": 46,
     "metadata": {},
     "output_type": "execute_result"
    }
   ],
   "source": [
    "from IPython.display import SVG\n",
    "from yattag import Doc\n",
    "\n",
    "doc, tag, text = Doc().tagtext()\n",
    "\n",
    "size = 600\n",
    "with tag('svg', width=size, height=size):\n",
    "    with tag('image', href='./recycle.png', width=size, height=size, opacity=0.8): pass\n",
    "    with tag('text',\n",
    "             ('font-size',\"144\"),\n",
    "             ('font-weight','bold'),\n",
    "             ('fill',\"#ff8c00\"),\n",
    "             ('alignment-baseline','middle'),\n",
    "             ('text-anchor','middle'),\n",
    "             x=.5*size,\n",
    "             y=.2*size,\n",
    "    ): text('NEW')\n",
    "\n",
    "SVG(doc.getvalue())"
   ]
  },
  {
   "cell_type": "code",
   "execution_count": 52,
   "metadata": {},
   "outputs": [],
   "source": [
    "from math import pi"
   ]
  },
  {
   "cell_type": "code",
   "execution_count": 103,
   "metadata": {},
   "outputs": [
    {
     "name": "stdout",
     "output_type": "stream",
     "text": [
      "N: (60.000000000000114,136.30780618346938), 120°, (-0.4999999999999998,0.8660254037844388)\n",
      "E: (151.67184270002528,95.49287217832625), 108°, (-0.30901699437494734,0.9510565162951536)\n",
      "W: (249.8263376315264,74.62949022322874), 96°, (-0.10452846326765333,0.9945218953682734)\n",
      "O: (350.17366236847363,74.6294902232288), 84°, (0.10452846326765344,0.9945218953682733)\n",
      "R: (448.3281572999748,95.49287217832631), 72°, (0.30901699437494745,0.9510565162951535)\n",
      "K: (540.0,136.3078061834695), 60°, (0.5000000000000001,0.8660254037844386)\n",
      "A: (200.20238840747527,517.5108483522267), 258°, (-0.20791169081775981,-0.9781476007338056)\n",
      "V: (299.9999999999999,528.0), 270°, (-1.8369701987210297e-16,-1.0)\n",
      "E: (399.7976115925241,517.5108483522267), 282°, (0.20791169081775857,-0.9781476007338058)\n"
     ]
    },
    {
     "data": {
      "image/svg+xml": [
       "<svg width=\"660.0\" height=\"660.0\"><g transform=\"translate(30.0,30.0)\"><image href=\"./recycle.png\" width=\"600\" height=\"600\" opacity=\"0.8\"/><text font-size=\"126.0\" font-weight=\"bold\" fill=\"#ff8c00\" alignment-baseline=\"middle\" text-anchor=\"middle\" transform=\"rotate(-30,60.000000000000114,136.30780618346938)\" x=\"60.000000000000114\" y=\"136.30780618346938\">N</text><text font-size=\"126.0\" font-weight=\"bold\" fill=\"#ff8c00\" alignment-baseline=\"middle\" text-anchor=\"middle\" transform=\"rotate(-18,151.67184270002528,95.49287217832625)\" x=\"151.67184270002528\" y=\"95.49287217832625\">E</text><text font-size=\"126.0\" font-weight=\"bold\" fill=\"#ff8c00\" alignment-baseline=\"middle\" text-anchor=\"middle\" transform=\"rotate(-6,249.8263376315264,74.62949022322874)\" x=\"249.8263376315264\" y=\"74.62949022322874\">W</text><text font-size=\"126.0\" font-weight=\"bold\" fill=\"#ff8c00\" alignment-baseline=\"middle\" text-anchor=\"middle\" transform=\"rotate(6,350.17366236847363,74.6294902232288)\" x=\"350.17366236847363\" y=\"74.6294902232288\">O</text><text font-size=\"126.0\" font-weight=\"bold\" fill=\"#ff8c00\" alignment-baseline=\"middle\" text-anchor=\"middle\" transform=\"rotate(18,448.3281572999748,95.49287217832631)\" x=\"448.3281572999748\" y=\"95.49287217832631\">R</text><text font-size=\"126.0\" font-weight=\"bold\" fill=\"#ff8c00\" alignment-baseline=\"middle\" text-anchor=\"middle\" transform=\"rotate(30,540.0,136.3078061834695)\" x=\"540.0\" y=\"136.3078061834695\">K</text><text font-size=\"126.0\" font-weight=\"bold\" fill=\"#ff8c00\" alignment-baseline=\"middle\" text-anchor=\"middle\" transform=\"rotate(12,200.20238840747527,517.5108483522267)\" x=\"200.20238840747527\" y=\"517.5108483522267\">A</text><text font-size=\"126.0\" font-weight=\"bold\" fill=\"#ff8c00\" alignment-baseline=\"middle\" text-anchor=\"middle\" transform=\"rotate(0,299.9999999999999,528.0)\" x=\"299.9999999999999\" y=\"528.0\">V</text><text font-size=\"126.0\" font-weight=\"bold\" fill=\"#ff8c00\" alignment-baseline=\"middle\" text-anchor=\"middle\" transform=\"rotate(-12,399.7976115925241,517.5108483522267)\" x=\"399.7976115925241\" y=\"517.5108483522267\">E</text></g></svg>"
      ],
      "text/plain": [
       "<IPython.core.display.SVG object>"
      ]
     },
     "execution_count": 103,
     "metadata": {},
     "output_type": "execute_result"
    }
   ],
   "source": [
    "from IPython.display import SVG\n",
    "from yattag import Doc\n",
    "\n",
    "import math\n",
    "from math import pi\n",
    "\n",
    "def cos(deg): return math.cos(deg*pi/180)\n",
    "def sin(deg): return math.sin(deg*pi/180)\n",
    "\n",
    "def logo(\n",
    "    size=600,\n",
    "    buf=.05,\n",
    "    font_size=.21,\n",
    "    font_color='#ff8c00',\n",
    "    deg_per_chr=12,\n",
    "    cx=.5, cy=.92,\n",
    "    R=.8,\n",
    "):\n",
    "    buf *= size\n",
    "    font_size *= size\n",
    "    cx *= size\n",
    "    cy *= size\n",
    "    R *= size\n",
    "\n",
    "    doc, tag, text = Doc().tagtext()\n",
    "\n",
    "    with tag('svg', width=size+2*buf, height=size+2*buf):\n",
    "        with tag('g', transform=f'translate({buf},{buf})',):\n",
    "            with tag('image', href='./recycle.png', width=size, height=size, opacity=0.8): pass\n",
    "            txt = 'NEWORK'\n",
    "            start_deg = 90 + deg_per_chr * (len(txt)-1)//2\n",
    "            cx, cy = .5*size, .92*size\n",
    "            R = .8*size\n",
    "            for idx, char in enumerate(txt):\n",
    "                deg = start_deg - idx * deg_per_chr\n",
    "                x = cx + R * cos(deg)\n",
    "                y = cy - R * sin(deg)\n",
    "                print(f'{char}: ({x},{y}), {deg}°, ({cos(deg)},{sin(deg)})')\n",
    "                with tag(\n",
    "                    'text',\n",
    "                    ('font-size',font_size),\n",
    "                    ('font-weight','bold'),\n",
    "                    ('fill',font_color),\n",
    "                    ('alignment-baseline','middle'),\n",
    "                    ('text-anchor','middle'),\n",
    "                    transform=f'rotate({90-deg},{x},{y})',\n",
    "                    x=x,\n",
    "                    y=y,\n",
    "                ):\n",
    "                    text(char)\n",
    "\n",
    "            txt = 'AVE'\n",
    "            start_deg = 270 - deg_per_chr * (len(txt)-1)//2\n",
    "            cx, cy = .5*size, size-cy\n",
    "            R = .8*size\n",
    "            for idx, char in enumerate(txt):\n",
    "                deg = start_deg + idx * deg_per_chr\n",
    "                x = cx + R * cos(deg)\n",
    "                y = cy - R * sin(deg)\n",
    "                print(f'{char}: ({x},{y}), {deg}°, ({cos(deg)},{sin(deg)})')\n",
    "                with tag(\n",
    "                    'text',\n",
    "                    ('font-size',font_size),\n",
    "                    ('font-weight','bold'),\n",
    "                    ('fill',font_color),\n",
    "                    ('alignment-baseline','middle'),\n",
    "                    ('text-anchor','middle'),\n",
    "                    transform=f'rotate({270-deg},{x},{y})',\n",
    "                    x=x,\n",
    "                    y=y,\n",
    "                ):\n",
    "                    text(char)\n",
    "\n",
    "    return SVG(doc.getvalue())"
   ]
  },
  {
   "cell_type": "code",
   "execution_count": 5,
   "metadata": {},
   "outputs": [],
   "source": [
    "def show_svg(xml):\n",
    "    return SVG(xml)"
   ]
  },
  {
   "cell_type": "code",
   "execution_count": 6,
   "metadata": {},
   "outputs": [
    {
     "data": {
      "image/svg+xml": [
       "<image href=\"./recycle.png\"></image>"
      ],
      "text/plain": [
       "<IPython.core.display.SVG object>"
      ]
     },
     "execution_count": 6,
     "metadata": {},
     "output_type": "execute_result"
    }
   ],
   "source": [
    "show_svg('<image href=\"./recycle.png\"></image>')"
   ]
  },
  {
   "cell_type": "code",
   "execution_count": null,
   "metadata": {},
   "outputs": [],
   "source": [
    "def svg(data):\n",
    "    return SVG(data)"
   ]
  },
  {
   "cell_type": "code",
   "execution_count": 16,
   "metadata": {},
   "outputs": [
    {
     "data": {
      "image/svg+xml": [
       "<svg><circle r=\"10\" cx=\"10\" cy=\"10\" fill=\"black\"/><image href=\"./recycle.png\" width=\"60\" height=\"60\"/></svg>"
      ],
      "text/plain": [
       "<IPython.core.display.SVG object>"
      ]
     },
     "execution_count": 16,
     "metadata": {},
     "output_type": "execute_result"
    }
   ],
   "source": [
    "SVG(data='<svg><circle r=\"10\" cx=\"10\" cy=\"10\" fill=\"black\"></circle><image href=\"./recycle.png\" width=\"60\" height=\"60\"></image></svg>')"
   ]
  },
  {
   "cell_type": "code",
   "execution_count": null,
   "metadata": {},
   "outputs": [],
   "source": []
  },
  {
   "cell_type": "code",
   "execution_count": null,
   "metadata": {},
   "outputs": [],
   "source": []
  }
 ],
 "metadata": {
  "kernelspec": {
   "display_name": "3.8.5",
   "language": "python",
   "name": "3.8.5"
  },
  "language_info": {
   "codemirror_mode": {
    "name": "ipython",
    "version": 3
   },
   "file_extension": ".py",
   "mimetype": "text/x-python",
   "name": "python",
   "nbconvert_exporter": "python",
   "pygments_lexer": "ipython3",
   "version": "3.8.5"
  }
 },
 "nbformat": 4,
 "nbformat_minor": 4
}
