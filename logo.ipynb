{
 "cells": [
  {
   "cell_type": "code",
   "execution_count": 202,
   "metadata": {},
   "outputs": [],
   "source": [
    "from IPython.display import SVG\n",
    "from os.path import splitext\n",
    "import shlex\n",
    "from subprocess import check_call\n",
    "from yattag import Doc\n",
    "\n",
    "import math\n",
    "from math import pi\n",
    "\n",
    "def cos(deg): return math.cos(deg*pi/180)\n",
    "def sin(deg): return math.sin(deg*pi/180)\n",
    "\n",
    "def logo(\n",
    "    size=600,\n",
    "    buf=.05,\n",
    "    font_size=.21,\n",
    "    font_color='#ff8c00',\n",
    "    deg_per_chr=12,\n",
    "    cx=.5, cy=.92,\n",
    "    R=.8,\n",
    "    bg_opacity=0.8,\n",
    "    dots=False,\n",
    "    rot_offset=-10,\n",
    "    save=None,\n",
    "):\n",
    "    buf *= size\n",
    "    font_size *= size\n",
    "    cx *= size\n",
    "    cy *= size\n",
    "    R *= size\n",
    "\n",
    "    doc, tag, text = Doc().tagtext()\n",
    "\n",
    "    def txt(\n",
    "        msg,\n",
    "        cx, cy,\n",
    "        deg, rx, ry,\n",
    "        *args,\n",
    "        font_size=font_size,\n",
    "        font_color=font_color,\n",
    "        **kwargs\n",
    "    ):\n",
    "        with tag(\n",
    "            'text',\n",
    "            ('font-size',font_size),\n",
    "            ('font-weight','bold'),\n",
    "            ('font-family','sans-serif'),\n",
    "            ('fill',font_color),\n",
    "            ('alignment-baseline','middle'),\n",
    "            ('text-anchor','middle'),\n",
    "            *args,\n",
    "            transform=f'rotate({deg},{rx},{ry})',\n",
    "            x=cx,\n",
    "            y=cy,\n",
    "            **kwargs,\n",
    "        ):\n",
    "            text(msg)\n",
    "        \n",
    "    \n",
    "    with tag('svg', xmlns=\"http://www.w3.org/2000/svg\", width=size+2*buf, height=size+2*buf):\n",
    "        with tag('g', transform=f'translate({buf},{buf})',):\n",
    "            with tag('image', href='./recycle.png', width=size, height=size, opacity=bg_opacity): pass\n",
    "\n",
    "            msg = 'NEWORK'\n",
    "            start_deg = 90 + deg_per_chr * (len(msg)-1)//2\n",
    "            for idx, char in enumerate(msg):\n",
    "                deg = start_deg - idx * deg_per_chr\n",
    "                x = cx + R * cos(deg)\n",
    "                y = cy - R * sin(deg)\n",
    "                txt(char, x, y, 90-deg, x, y)\n",
    "                if dots:\n",
    "                    with tag(\n",
    "                        'circle',\n",
    "                        fill='black',\n",
    "                        r=5,\n",
    "                        cx=x,cy=y,\n",
    "                    ): pass\n",
    "\n",
    "            msg = 'AVE'\n",
    "            start_deg = 270 - deg_per_chr * (len(msg)-1)//2\n",
    "            cy = size - cy\n",
    "            for idx, char in enumerate(msg):\n",
    "                deg = start_deg + idx * deg_per_chr\n",
    "                x = cx + R * cos(deg)\n",
    "                y = cy - R * sin(deg)\n",
    "                txt(char, x, y, 270-deg, x, y)\n",
    "                if dots:\n",
    "                    with tag(\n",
    "                        'circle',\n",
    "                        fill='black',\n",
    "                        r=5,\n",
    "                        cx=x,cy=y,\n",
    "                    ): pass\n",
    "\n",
    "    data = doc.getvalue()\n",
    "    if save:\n",
    "        from cairosvg import svg2png\n",
    "        name, ext = splitext(save)\n",
    "        svg_path = f'{name}.svg'\n",
    "        png_path = f'{name}.png'\n",
    "        with open(svg_path,'w') as f:\n",
    "            f.write(data + '\\n')\n",
    "        cmd = ['convert-svg-to-png',svg_path]\n",
    "        print('Running: %s' % shlex.join(cmd))\n",
    "        check_call(cmd)\n",
    "\n",
    "    return SVG(data)"
   ]
  },
  {
   "cell_type": "code",
   "execution_count": 203,
   "metadata": {},
   "outputs": [
    {
     "name": "stdout",
     "output_type": "stream",
     "text": [
      "Running: convert-svg-to-png logo.svg\n"
     ]
    },
    {
     "data": {
      "image/svg+xml": [
       "<svg xmlns=\"http://www.w3.org/2000/svg\" width=\"660.0\" height=\"660.0\"><g transform=\"translate(30.0,30.0)\"><image href=\"./recycle.png\" width=\"600\" height=\"600\" opacity=\"0.6\"/><text font-size=\"144.0\" font-weight=\"bold\" font-family=\"sans-serif\" fill=\"#ff8c00\" alignment-baseline=\"middle\" text-anchor=\"middle\" transform=\"rotate(-72,71.74643608916315,255.8359213500126)\" x=\"71.74643608916315\" y=\"255.8359213500126\">N</text><text font-size=\"144.0\" font-weight=\"bold\" font-family=\"sans-serif\" fill=\"#ff8c00\" alignment-baseline=\"middle\" text-anchor=\"middle\" transform=\"rotate(-43,136.3203935850004,154.47511161139903)\" x=\"136.3203935850004\" y=\"154.47511161139903\">E</text><text font-size=\"144.0\" font-weight=\"bold\" font-family=\"sans-serif\" fill=\"#ff8c00\" alignment-baseline=\"middle\" text-anchor=\"middle\" transform=\"rotate(-14,241.93874505607974,97.12902569376084)\" x=\"241.93874505607974\" y=\"97.12902569376084\">W</text><text font-size=\"144.0\" font-weight=\"bold\" font-family=\"sans-serif\" fill=\"#ff8c00\" alignment-baseline=\"middle\" text-anchor=\"middle\" transform=\"rotate(15,362.116570824605,98.1778016906236)\" x=\"362.116570824605\" y=\"98.1778016906236\">O</text><text font-size=\"144.0\" font-weight=\"bold\" font-family=\"sans-serif\" fill=\"#ff8c00\" alignment-baseline=\"middle\" text-anchor=\"middle\" transform=\"rotate(44,466.71800891015937,157.35844791872375)\" x=\"466.71800891015937\" y=\"157.35844791872375\">R</text><text font-size=\"144.0\" font-weight=\"bold\" font-family=\"sans-serif\" fill=\"#ff8c00\" alignment-baseline=\"middle\" text-anchor=\"middle\" transform=\"rotate(73,529.5131414311285,259.83079086654317)\" x=\"529.5131414311285\" y=\"259.83079086654317\">K</text><text font-size=\"144.0\" font-weight=\"bold\" font-family=\"sans-serif\" fill=\"#ff8c00\" alignment-baseline=\"middle\" text-anchor=\"middle\" transform=\"rotate(29,183.64569114087917,479.90872971345505)\" x=\"183.64569114087917\" y=\"479.90872971345505\">A</text><text font-size=\"144.0\" font-weight=\"bold\" font-family=\"sans-serif\" fill=\"#ff8c00\" alignment-baseline=\"middle\" text-anchor=\"middle\" transform=\"rotate(0,299.99999999999994,510.0)\" x=\"299.99999999999994\" y=\"510.0\">V</text><text font-size=\"144.0\" font-weight=\"bold\" font-family=\"sans-serif\" fill=\"#ff8c00\" alignment-baseline=\"middle\" text-anchor=\"middle\" transform=\"rotate(-29,416.35430885912075,479.90872971345505)\" x=\"416.35430885912075\" y=\"479.90872971345505\">E</text></g></svg>"
      ],
      "text/plain": [
       "<IPython.core.display.SVG object>"
      ]
     },
     "execution_count": 203,
     "metadata": {},
     "output_type": "execute_result"
    }
   ],
   "source": [
    "logo(\n",
    "    font_size=.24,\n",
    "    deg_per_chr=29,\n",
    "    cy=.55,\n",
    "    R=.40,\n",
    "    bg_opacity=0.6,\n",
    "    save='logo.png',\n",
    ")"
   ]
  },
  {
   "cell_type": "code",
   "execution_count": 204,
   "metadata": {
    "scrolled": true
   },
   "outputs": [
    {
     "name": "stdout",
     "output_type": "stream",
     "text": [
      "Running: convert-svg-to-png flat.svg\n"
     ]
    },
    {
     "data": {
      "image/svg+xml": [
       "<svg xmlns=\"http://www.w3.org/2000/svg\" width=\"660.0\" height=\"660.0\"><g transform=\"translate(30.0,30.0)\"><image href=\"./recycle.png\" width=\"600\" height=\"600\" opacity=\"0.8\"/><text font-size=\"126.0\" font-weight=\"bold\" font-family=\"sans-serif\" fill=\"#ff8c00\" alignment-baseline=\"middle\" text-anchor=\"middle\" transform=\"rotate(-30,60.000000000000114,136.30780618346938)\" x=\"60.000000000000114\" y=\"136.30780618346938\">N</text><text font-size=\"126.0\" font-weight=\"bold\" font-family=\"sans-serif\" fill=\"#ff8c00\" alignment-baseline=\"middle\" text-anchor=\"middle\" transform=\"rotate(-18,151.67184270002528,95.49287217832625)\" x=\"151.67184270002528\" y=\"95.49287217832625\">E</text><text font-size=\"126.0\" font-weight=\"bold\" font-family=\"sans-serif\" fill=\"#ff8c00\" alignment-baseline=\"middle\" text-anchor=\"middle\" transform=\"rotate(-6,249.8263376315264,74.62949022322874)\" x=\"249.8263376315264\" y=\"74.62949022322874\">W</text><text font-size=\"126.0\" font-weight=\"bold\" font-family=\"sans-serif\" fill=\"#ff8c00\" alignment-baseline=\"middle\" text-anchor=\"middle\" transform=\"rotate(6,350.17366236847363,74.6294902232288)\" x=\"350.17366236847363\" y=\"74.6294902232288\">O</text><text font-size=\"126.0\" font-weight=\"bold\" font-family=\"sans-serif\" fill=\"#ff8c00\" alignment-baseline=\"middle\" text-anchor=\"middle\" transform=\"rotate(18,448.3281572999748,95.49287217832631)\" x=\"448.3281572999748\" y=\"95.49287217832631\">R</text><text font-size=\"126.0\" font-weight=\"bold\" font-family=\"sans-serif\" fill=\"#ff8c00\" alignment-baseline=\"middle\" text-anchor=\"middle\" transform=\"rotate(30,540.0,136.3078061834695)\" x=\"540.0\" y=\"136.3078061834695\">K</text><text font-size=\"126.0\" font-weight=\"bold\" font-family=\"sans-serif\" fill=\"#ff8c00\" alignment-baseline=\"middle\" text-anchor=\"middle\" transform=\"rotate(12,200.20238840747527,517.5108483522267)\" x=\"200.20238840747527\" y=\"517.5108483522267\">A</text><text font-size=\"126.0\" font-weight=\"bold\" font-family=\"sans-serif\" fill=\"#ff8c00\" alignment-baseline=\"middle\" text-anchor=\"middle\" transform=\"rotate(0,299.9999999999999,528.0)\" x=\"299.9999999999999\" y=\"528.0\">V</text><text font-size=\"126.0\" font-weight=\"bold\" font-family=\"sans-serif\" fill=\"#ff8c00\" alignment-baseline=\"middle\" text-anchor=\"middle\" transform=\"rotate(-12,399.7976115925241,517.5108483522267)\" x=\"399.7976115925241\" y=\"517.5108483522267\">E</text></g></svg>"
      ],
      "text/plain": [
       "<IPython.core.display.SVG object>"
      ]
     },
     "execution_count": 204,
     "metadata": {},
     "output_type": "execute_result"
    }
   ],
   "source": [
    "logo(save='flat', bg_opacity=0.8)"
   ]
  },
  {
   "cell_type": "code",
   "execution_count": null,
   "metadata": {},
   "outputs": [],
   "source": []
  }
 ],
 "metadata": {
  "kernelspec": {
   "display_name": "3.8.5",
   "language": "python",
   "name": "3.8.5"
  },
  "language_info": {
   "codemirror_mode": {
    "name": "ipython",
    "version": 3
   },
   "file_extension": ".py",
   "mimetype": "text/x-python",
   "name": "python",
   "nbconvert_exporter": "python",
   "pygments_lexer": "ipython3",
   "version": "3.8.5"
  }
 },
 "nbformat": 4,
 "nbformat_minor": 4
}
